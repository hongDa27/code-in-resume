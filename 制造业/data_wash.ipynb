{
 "cells": [
  {
   "cell_type": "code",
   "execution_count": 1,
   "id": "82b8ae1f",
   "metadata": {},
   "outputs": [],
   "source": [
    "import numpy as np\n",
    "import pandas as pd\n"
   ]
  },
  {
   "cell_type": "code",
   "execution_count": 2,
   "id": "028ac8d6",
   "metadata": {},
   "outputs": [],
   "source": [
    "pd.set_option('display.max_columns',None)\n",
    "pd.set_option('display.max_rows',None)"
   ]
  },
  {
   "cell_type": "code",
   "execution_count": 3,
   "id": "53fe067e",
   "metadata": {},
   "outputs": [],
   "source": [
    "column_list = ['学历年龄','年齢','勤続年数','所定内実労働時間数','超過実労働時間数','きまって支給する現金給与額(千円)',\n",
    "               '所定内給与額(千円)','年間賞与その他特別給与額(千円)','労働者数(十人)','year']"
   ]
  },
  {
   "cell_type": "code",
   "execution_count": 4,
   "id": "1f78f803",
   "metadata": {},
   "outputs": [],
   "source": [
    "df_list = []"
   ]
  },
  {
   "cell_type": "code",
   "execution_count": 5,
   "id": "b246eae0",
   "metadata": {},
   "outputs": [],
   "source": [
    "for year in range(2009,2019):\n",
    "    \n",
    "        \n",
    "    df = pd.read_excel(f'05-19data/05-19正社员/{year}.xls',sheet_name = ' E 製造業')\n",
    "    if year == 2010:\n",
    "        df = df.iloc[11:,8:17]\n",
    "    else:\n",
    "        df = df.iloc[13:,8:17]\n",
    "    df['year'] = int(year)\n",
    "    df.columns = column_list\n",
    "    df_list.append(df)\n",
    "    "
   ]
  },
  {
   "cell_type": "code",
   "execution_count": 6,
   "id": "a13c15c9",
   "metadata": {},
   "outputs": [],
   "source": [
    "data = pd.concat(df_list)"
   ]
  },
  {
   "cell_type": "code",
   "execution_count": 7,
   "id": "8aa5b822",
   "metadata": {},
   "outputs": [
    {
     "data": {
      "text/plain": [
       "2009    195\n",
       "2010    195\n",
       "2011    195\n",
       "2012    195\n",
       "2013    195\n",
       "2014    195\n",
       "2015    195\n",
       "2016    195\n",
       "2017    195\n",
       "2018    195\n",
       "Name: year, dtype: int64"
      ]
     },
     "execution_count": 7,
     "metadata": {},
     "output_type": "execute_result"
    }
   ],
   "source": [
    "data['year'].value_counts()\n"
   ]
  },
  {
   "cell_type": "code",
   "execution_count": 8,
   "id": "bac0d024",
   "metadata": {},
   "outputs": [],
   "source": [
    "data.reset_index(inplace=True,drop = 'index')"
   ]
  },
  {
   "cell_type": "code",
   "execution_count": 9,
   "id": "4928a78f",
   "metadata": {},
   "outputs": [],
   "source": [
    "del_list = ['\\u3000\\u3000～１９歳','６０～６４歳','６５～６９歳','７０歳～']"
   ]
  },
  {
   "cell_type": "code",
   "execution_count": 10,
   "id": "af94340f",
   "metadata": {},
   "outputs": [],
   "source": [
    "drop_list = []"
   ]
  },
  {
   "cell_type": "code",
   "execution_count": 11,
   "id": "05854e8a",
   "metadata": {
    "scrolled": true
   },
   "outputs": [],
   "source": [
    "for item in del_list:\n",
    "    drop_index = data[data['学历年龄'] == item].index\n",
    "    drop_list.append(drop_index)"
   ]
  },
  {
   "cell_type": "code",
   "execution_count": 12,
   "id": "95e6a3db",
   "metadata": {},
   "outputs": [],
   "source": [
    "for item in drop_list:\n",
    "    data.drop(index = item,inplace=True)"
   ]
  },
  {
   "cell_type": "code",
   "execution_count": 13,
   "id": "6646df9e",
   "metadata": {},
   "outputs": [],
   "source": [
    "data.reset_index(inplace=True,drop = 'index')"
   ]
  },
  {
   "cell_type": "code",
   "execution_count": 14,
   "id": "95387fa0",
   "metadata": {},
   "outputs": [
    {
     "data": {
      "text/html": [
       "<div>\n",
       "<style scoped>\n",
       "    .dataframe tbody tr th:only-of-type {\n",
       "        vertical-align: middle;\n",
       "    }\n",
       "\n",
       "    .dataframe tbody tr th {\n",
       "        vertical-align: top;\n",
       "    }\n",
       "\n",
       "    .dataframe thead th {\n",
       "        text-align: right;\n",
       "    }\n",
       "</style>\n",
       "<table border=\"1\" class=\"dataframe\">\n",
       "  <thead>\n",
       "    <tr style=\"text-align: right;\">\n",
       "      <th></th>\n",
       "      <th>学历年龄</th>\n",
       "      <th>年齢</th>\n",
       "      <th>勤続年数</th>\n",
       "      <th>所定内実労働時間数</th>\n",
       "      <th>超過実労働時間数</th>\n",
       "      <th>きまって支給する現金給与額(千円)</th>\n",
       "      <th>所定内給与額(千円)</th>\n",
       "      <th>年間賞与その他特別給与額(千円)</th>\n",
       "      <th>労働者数(十人)</th>\n",
       "      <th>year</th>\n",
       "    </tr>\n",
       "  </thead>\n",
       "  <tbody>\n",
       "    <tr>\n",
       "      <th>0</th>\n",
       "      <td>男　 女　 計\\n学　 歴   計</td>\n",
       "      <td>40.8</td>\n",
       "      <td>14.5</td>\n",
       "      <td>162</td>\n",
       "      <td>11</td>\n",
       "      <td>325.8</td>\n",
       "      <td>300.8</td>\n",
       "      <td>1145.4</td>\n",
       "      <td>491523</td>\n",
       "      <td>2009</td>\n",
       "    </tr>\n",
       "    <tr>\n",
       "      <th>1</th>\n",
       "      <td>２０～２４歳</td>\n",
       "      <td>22.7</td>\n",
       "      <td>2.8</td>\n",
       "      <td>164</td>\n",
       "      <td>13</td>\n",
       "      <td>214.2</td>\n",
       "      <td>191.5</td>\n",
       "      <td>522</td>\n",
       "      <td>37795</td>\n",
       "      <td>2009</td>\n",
       "    </tr>\n",
       "    <tr>\n",
       "      <th>2</th>\n",
       "      <td>２５～２９歳</td>\n",
       "      <td>27.6</td>\n",
       "      <td>5.1</td>\n",
       "      <td>162</td>\n",
       "      <td>14</td>\n",
       "      <td>251.8</td>\n",
       "      <td>224.9</td>\n",
       "      <td>768.9</td>\n",
       "      <td>56957</td>\n",
       "      <td>2009</td>\n",
       "    </tr>\n",
       "    <tr>\n",
       "      <th>3</th>\n",
       "      <td>３０～３４歳</td>\n",
       "      <td>32.6</td>\n",
       "      <td>8.6</td>\n",
       "      <td>163</td>\n",
       "      <td>15</td>\n",
       "      <td>291.4</td>\n",
       "      <td>259.6</td>\n",
       "      <td>960.4</td>\n",
       "      <td>65214</td>\n",
       "      <td>2009</td>\n",
       "    </tr>\n",
       "    <tr>\n",
       "      <th>4</th>\n",
       "      <td>３５～３９歳</td>\n",
       "      <td>37.5</td>\n",
       "      <td>12.7</td>\n",
       "      <td>162</td>\n",
       "      <td>13</td>\n",
       "      <td>326.5</td>\n",
       "      <td>295.8</td>\n",
       "      <td>1141.8</td>\n",
       "      <td>75683</td>\n",
       "      <td>2009</td>\n",
       "    </tr>\n",
       "  </tbody>\n",
       "</table>\n",
       "</div>"
      ],
      "text/plain": [
       "                学历年龄    年齢  勤続年数 所定内実労働時間数 超過実労働時間数 きまって支給する現金給与額(千円)  \\\n",
       "0  男　 女　 計\\n学　 歴   計  40.8  14.5       162       11             325.8   \n",
       "1             ２０～２４歳  22.7   2.8       164       13             214.2   \n",
       "2             ２５～２９歳  27.6   5.1       162       14             251.8   \n",
       "3             ３０～３４歳  32.6   8.6       163       15             291.4   \n",
       "4             ３５～３９歳  37.5  12.7       162       13             326.5   \n",
       "\n",
       "  所定内給与額(千円) 年間賞与その他特別給与額(千円) 労働者数(十人)  year  \n",
       "0      300.8           1145.4   491523  2009  \n",
       "1      191.5              522    37795  2009  \n",
       "2      224.9            768.9    56957  2009  \n",
       "3      259.6            960.4    65214  2009  \n",
       "4      295.8           1141.8    75683  2009  "
      ]
     },
     "execution_count": 14,
     "metadata": {},
     "output_type": "execute_result"
    }
   ],
   "source": [
    "data.head()"
   ]
  },
  {
   "cell_type": "code",
   "execution_count": null,
   "id": "4a589d40",
   "metadata": {},
   "outputs": [],
   "source": []
  },
  {
   "cell_type": "code",
   "execution_count": null,
   "id": "4de032b5",
   "metadata": {},
   "outputs": [],
   "source": []
  },
  {
   "cell_type": "code",
   "execution_count": null,
   "id": "8fa8d30d",
   "metadata": {},
   "outputs": [],
   "source": []
  },
  {
   "cell_type": "code",
   "execution_count": 15,
   "id": "cdc7d908",
   "metadata": {},
   "outputs": [
    {
     "data": {
      "text/plain": [
       "'大学・大学院卒'"
      ]
     },
     "execution_count": 15,
     "metadata": {},
     "output_type": "execute_result"
    }
   ],
   "source": [
    "data.iloc[36,0]"
   ]
  },
  {
   "cell_type": "code",
   "execution_count": 16,
   "id": "4faa7bb7",
   "metadata": {},
   "outputs": [],
   "source": [
    "def edu_trans(x):\n",
    "    if x in ['男\\u3000 女\\u3000 計\\n学\\u3000 歴   計','\\u3000\\u3000 男\\n学   歴   計','\\u3000\\u3000 女\\n学   歴   計']:\n",
    "        return 'delete'\n",
    "    elif x =='中   学   卒':\n",
    "        return 9\n",
    "    elif x == '高   校   卒':\n",
    "        return 12\n",
    "    elif x == '高専・短大卒':\n",
    "        return 14\n",
    "    elif x == '大学・大学院卒':\n",
    "        return 16"
   ]
  },
  {
   "cell_type": "code",
   "execution_count": 17,
   "id": "445d6135",
   "metadata": {},
   "outputs": [],
   "source": [
    "data['education'] = data['学历年龄'].map(edu_trans)"
   ]
  },
  {
   "cell_type": "code",
   "execution_count": 18,
   "id": "b58b7f14",
   "metadata": {},
   "outputs": [],
   "source": [
    "def sex_trans(x):\n",
    "    if x in ['男\\u3000 女\\u3000 計\\n学\\u3000 歴   計']:\n",
    "        return 'delete'\n",
    "    elif x =='\\u3000\\u3000 男\\n学   歴   計':\n",
    "        return 1\n",
    "    elif x == '\\u3000\\u3000 女\\n学   歴   計':\n",
    "        return 0"
   ]
  },
  {
   "cell_type": "code",
   "execution_count": 19,
   "id": "1eb878c4",
   "metadata": {},
   "outputs": [],
   "source": [
    "data['sex'] = data['学历年龄'].map(sex_trans)"
   ]
  },
  {
   "cell_type": "code",
   "execution_count": 20,
   "id": "2868e6e5",
   "metadata": {},
   "outputs": [],
   "source": [
    "data.fillna(method='ffill',inplace=True)"
   ]
  },
  {
   "cell_type": "code",
   "execution_count": 21,
   "id": "7dd9ee9b",
   "metadata": {},
   "outputs": [],
   "source": [
    "drop_list = []"
   ]
  },
  {
   "cell_type": "code",
   "execution_count": 22,
   "id": "eceee470",
   "metadata": {},
   "outputs": [],
   "source": [
    "drop_index = data[(data['sex'] == 'delete' )| (data['education']=='delete')].index"
   ]
  },
  {
   "cell_type": "code",
   "execution_count": 23,
   "id": "f7cf8bc2",
   "metadata": {},
   "outputs": [],
   "source": [
    "data.drop(index = drop_index,inplace=True)"
   ]
  },
  {
   "cell_type": "code",
   "execution_count": 24,
   "id": "6b8af078",
   "metadata": {},
   "outputs": [],
   "source": [
    "data.reset_index(inplace=True,drop = 'index')"
   ]
  },
  {
   "cell_type": "code",
   "execution_count": 25,
   "id": "80e02beb",
   "metadata": {},
   "outputs": [
    {
     "name": "stdout",
     "output_type": "stream",
     "text": [
      "<class 'pandas.core.frame.DataFrame'>\n",
      "RangeIndex: 720 entries, 0 to 719\n",
      "Data columns (total 12 columns):\n",
      " #   Column             Non-Null Count  Dtype  \n",
      "---  ------             --------------  -----  \n",
      " 0   学历年龄               720 non-null    object \n",
      " 1   年齢                 720 non-null    float64\n",
      " 2   勤続年数               720 non-null    float64\n",
      " 3   所定内実労働時間数          720 non-null    int64  \n",
      " 4   超過実労働時間数           720 non-null    int64  \n",
      " 5   きまって支給する現金給与額(千円)  720 non-null    float64\n",
      " 6   所定内給与額(千円)         720 non-null    float64\n",
      " 7   年間賞与その他特別給与額(千円)   720 non-null    float64\n",
      " 8   労働者数(十人)           720 non-null    int64  \n",
      " 9   year               720 non-null    int64  \n",
      " 10  education          720 non-null    object \n",
      " 11  sex                720 non-null    object \n",
      "dtypes: float64(5), int64(4), object(3)\n",
      "memory usage: 67.6+ KB\n"
     ]
    }
   ],
   "source": [
    "data.info()"
   ]
  },
  {
   "cell_type": "code",
   "execution_count": 26,
   "id": "da86b603",
   "metadata": {},
   "outputs": [
    {
     "data": {
      "text/html": [
       "<div>\n",
       "<style scoped>\n",
       "    .dataframe tbody tr th:only-of-type {\n",
       "        vertical-align: middle;\n",
       "    }\n",
       "\n",
       "    .dataframe tbody tr th {\n",
       "        vertical-align: top;\n",
       "    }\n",
       "\n",
       "    .dataframe thead th {\n",
       "        text-align: right;\n",
       "    }\n",
       "</style>\n",
       "<table border=\"1\" class=\"dataframe\">\n",
       "  <thead>\n",
       "    <tr style=\"text-align: right;\">\n",
       "      <th></th>\n",
       "      <th>年齢</th>\n",
       "      <th>勤続年数</th>\n",
       "      <th>所定内実労働時間数</th>\n",
       "      <th>超過実労働時間数</th>\n",
       "      <th>きまって支給する現金給与額(千円)</th>\n",
       "      <th>所定内給与額(千円)</th>\n",
       "      <th>年間賞与その他特別給与額(千円)</th>\n",
       "      <th>労働者数(十人)</th>\n",
       "      <th>year</th>\n",
       "    </tr>\n",
       "  </thead>\n",
       "  <tbody>\n",
       "    <tr>\n",
       "      <th>count</th>\n",
       "      <td>720.000000</td>\n",
       "      <td>720.000000</td>\n",
       "      <td>720.000000</td>\n",
       "      <td>720.000000</td>\n",
       "      <td>720.000000</td>\n",
       "      <td>720.000000</td>\n",
       "      <td>720.000000</td>\n",
       "      <td>720.000000</td>\n",
       "      <td>720.000000</td>\n",
       "    </tr>\n",
       "    <tr>\n",
       "      <th>mean</th>\n",
       "      <td>40.265556</td>\n",
       "      <td>13.489722</td>\n",
       "      <td>165.315278</td>\n",
       "      <td>14.676389</td>\n",
       "      <td>305.701806</td>\n",
       "      <td>276.031667</td>\n",
       "      <td>888.397222</td>\n",
       "      <td>13150.812500</td>\n",
       "      <td>2013.500000</td>\n",
       "    </tr>\n",
       "    <tr>\n",
       "      <th>std</th>\n",
       "      <td>10.851923</td>\n",
       "      <td>7.591722</td>\n",
       "      <td>2.937796</td>\n",
       "      <td>6.381649</td>\n",
       "      <td>91.714232</td>\n",
       "      <td>88.053198</td>\n",
       "      <td>480.721019</td>\n",
       "      <td>30477.226884</td>\n",
       "      <td>2.874278</td>\n",
       "    </tr>\n",
       "    <tr>\n",
       "      <th>min</th>\n",
       "      <td>22.200000</td>\n",
       "      <td>1.200000</td>\n",
       "      <td>156.000000</td>\n",
       "      <td>2.000000</td>\n",
       "      <td>136.100000</td>\n",
       "      <td>120.500000</td>\n",
       "      <td>25.100000</td>\n",
       "      <td>153.000000</td>\n",
       "      <td>2009.000000</td>\n",
       "    </tr>\n",
       "    <tr>\n",
       "      <th>25%</th>\n",
       "      <td>32.475000</td>\n",
       "      <td>7.100000</td>\n",
       "      <td>164.000000</td>\n",
       "      <td>10.000000</td>\n",
       "      <td>229.550000</td>\n",
       "      <td>210.075000</td>\n",
       "      <td>556.850000</td>\n",
       "      <td>1422.500000</td>\n",
       "      <td>2011.000000</td>\n",
       "    </tr>\n",
       "    <tr>\n",
       "      <th>50%</th>\n",
       "      <td>41.300000</td>\n",
       "      <td>13.600000</td>\n",
       "      <td>165.000000</td>\n",
       "      <td>13.000000</td>\n",
       "      <td>292.250000</td>\n",
       "      <td>255.950000</td>\n",
       "      <td>805.050000</td>\n",
       "      <td>4062.000000</td>\n",
       "      <td>2013.500000</td>\n",
       "    </tr>\n",
       "    <tr>\n",
       "      <th>75%</th>\n",
       "      <td>47.600000</td>\n",
       "      <td>19.325000</td>\n",
       "      <td>167.000000</td>\n",
       "      <td>20.000000</td>\n",
       "      <td>371.450000</td>\n",
       "      <td>324.725000</td>\n",
       "      <td>1148.925000</td>\n",
       "      <td>15392.250000</td>\n",
       "      <td>2016.000000</td>\n",
       "    </tr>\n",
       "    <tr>\n",
       "      <th>max</th>\n",
       "      <td>58.200000</td>\n",
       "      <td>33.100000</td>\n",
       "      <td>186.000000</td>\n",
       "      <td>35.000000</td>\n",
       "      <td>554.800000</td>\n",
       "      <td>536.700000</td>\n",
       "      <td>2515.000000</td>\n",
       "      <td>239718.000000</td>\n",
       "      <td>2018.000000</td>\n",
       "    </tr>\n",
       "  </tbody>\n",
       "</table>\n",
       "</div>"
      ],
      "text/plain": [
       "               年齢        勤続年数   所定内実労働時間数    超過実労働時間数  きまって支給する現金給与額(千円)  \\\n",
       "count  720.000000  720.000000  720.000000  720.000000         720.000000   \n",
       "mean    40.265556   13.489722  165.315278   14.676389         305.701806   \n",
       "std     10.851923    7.591722    2.937796    6.381649          91.714232   \n",
       "min     22.200000    1.200000  156.000000    2.000000         136.100000   \n",
       "25%     32.475000    7.100000  164.000000   10.000000         229.550000   \n",
       "50%     41.300000   13.600000  165.000000   13.000000         292.250000   \n",
       "75%     47.600000   19.325000  167.000000   20.000000         371.450000   \n",
       "max     58.200000   33.100000  186.000000   35.000000         554.800000   \n",
       "\n",
       "       所定内給与額(千円)  年間賞与その他特別給与額(千円)       労働者数(十人)         year  \n",
       "count  720.000000        720.000000     720.000000   720.000000  \n",
       "mean   276.031667        888.397222   13150.812500  2013.500000  \n",
       "std     88.053198        480.721019   30477.226884     2.874278  \n",
       "min    120.500000         25.100000     153.000000  2009.000000  \n",
       "25%    210.075000        556.850000    1422.500000  2011.000000  \n",
       "50%    255.950000        805.050000    4062.000000  2013.500000  \n",
       "75%    324.725000       1148.925000   15392.250000  2016.000000  \n",
       "max    536.700000       2515.000000  239718.000000  2018.000000  "
      ]
     },
     "execution_count": 26,
     "metadata": {},
     "output_type": "execute_result"
    }
   ],
   "source": [
    "data.describe()"
   ]
  },
  {
   "cell_type": "code",
   "execution_count": 27,
   "id": "5b9d89cd",
   "metadata": {},
   "outputs": [],
   "source": [
    "data.to_excel('05-19data/washed_data.xlsx')"
   ]
  },
  {
   "cell_type": "code",
   "execution_count": null,
   "id": "91c7c517",
   "metadata": {},
   "outputs": [],
   "source": []
  },
  {
   "cell_type": "code",
   "execution_count": null,
   "id": "7ea939e1",
   "metadata": {},
   "outputs": [],
   "source": []
  }
 ],
 "metadata": {
  "kernelspec": {
   "display_name": "Python 3 (ipykernel)",
   "language": "python",
   "name": "python3"
  },
  "language_info": {
   "codemirror_mode": {
    "name": "ipython",
    "version": 3
   },
   "file_extension": ".py",
   "mimetype": "text/x-python",
   "name": "python",
   "nbconvert_exporter": "python",
   "pygments_lexer": "ipython3",
   "version": "3.9.12"
  }
 },
 "nbformat": 4,
 "nbformat_minor": 5
}
